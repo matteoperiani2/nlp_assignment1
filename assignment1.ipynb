{
  "cells": [
    {
      "cell_type": "markdown",
      "metadata": {
        "id": "D7WO5mI4hjKk"
      },
      "source": [
        "\n",
        "# NLP Assignment 1\n"
      ]
    },
    {
      "cell_type": "code",
      "execution_count": null,
      "metadata": {
        "id": "_YvHHIIDh5BS"
      },
      "outputs": [],
      "source": [
        "import os, sys, urllib.request, progressbar, zipfile, string\n",
        "from tqdm import tqdm\n",
        "import pandas as pd \n",
        "import numpy as np \n",
        "from itertools import groupby\n",
        "from matplotlib import pyplot as plt\n",
        "import seaborn as sns\n",
        "from sklearn.metrics import f1_score\n",
        "from collections import OrderedDict\n",
        "\n",
        "import gensim\n",
        "import gensim.downloader as gloader\n",
        "\n",
        "import tensorflow\n",
        "from tensorflow import keras\n",
        "from keras.utils import pad_sequences, to_categorical\n",
        "from keras.preprocessing.text import Tokenizer\n",
        "from keras.layers import LSTM, Bidirectional, TimeDistributed, Embedding, Dense, GRU\n",
        "from keras.models import Sequential\n",
        "from keras.callbacks import EarlyStopping\n",
        "\n",
        "seed = 42\n",
        "tensorflow.keras.utils.set_random_seed(seed)"
      ]
    },
    {
      "cell_type": "markdown",
      "metadata": {
        "id": "LA_eAnAkmdiU"
      },
      "source": [
        "## Datatset download and preparation\n",
        "Download the dataset "
      ]
    },
    {
      "cell_type": "code",
      "execution_count": null,
      "metadata": {
        "id": "azr6_2R75AyS"
      },
      "outputs": [],
      "source": [
        "pbar = None\n",
        "\n",
        "def show_progress(block_num, block_size, total_size):\n",
        "    global pbar\n",
        "    if pbar is None:\n",
        "        pbar = progressbar.ProgressBar(maxval=total_size)\n",
        "        pbar.start()\n",
        "\n",
        "    downloaded = block_num * block_size\n",
        "    if downloaded < total_size:\n",
        "        pbar.update(downloaded)\n",
        "    else:\n",
        "        pbar.finish()\n",
        "        pbar = None\n",
        "\n",
        "def download_zip_from_url(url, name, save_path):\n",
        " \n",
        "  if not os.path.exists(save_path):\n",
        "      os.makedirs(save_path)\n",
        "\n",
        "  download_path = os.path.join(save_path, name)\n",
        "\n",
        "  if not os.path.exists(download_path):\n",
        "      urllib.request.urlretrieve(url, download_path, show_progress)\n",
        "      print(\"Successful download\")\n",
        "\n",
        "  with zipfile.ZipFile(download_path,\"r\") as zip:\n",
        "      zip.extractall(save_path)\n",
        "  print(\"Successful extraction\")"
      ]
    },
    {
      "cell_type": "code",
      "execution_count": null,
      "metadata": {
        "colab": {
          "base_uri": "https://localhost:8080/"
        },
        "id": "TpUSxB9hjqjP",
        "outputId": "4d0e8fd3-c54c-487c-d09f-dbcdc9cb4251"
      },
      "outputs": [
        {
          "output_type": "stream",
          "name": "stderr",
          "text": [
            "100% (457429 of 457429) |################| Elapsed Time: 0:00:00 Time:  0:00:00\n"
          ]
        },
        {
          "output_type": "stream",
          "name": "stdout",
          "text": [
            "Successful download\n",
            "Successful extraction\n"
          ]
        }
      ],
      "source": [
        "dataset_folder = os.path.join(os.getcwd(), \"Datasets\", \"Original\")\n",
        "url = \"https://raw.githubusercontent.com/nltk/nltk_data/gh-pages/packages/corpora/dependency_treebank.zip\"\n",
        "zipname = \"dataset.zip\"\n",
        "\n",
        "download_zip_from_url(url, zipname, dataset_folder)"
      ]
    },
    {
      "cell_type": "markdown",
      "metadata": {
        "id": "3RpkzIM8oQNp"
      },
      "source": [
        "Inspect the first document to understand how it's composed"
      ]
    },
    {
      "cell_type": "code",
      "execution_count": null,
      "metadata": {
        "colab": {
          "base_uri": "https://localhost:8080/"
        },
        "id": "2uSgpiThoPi3",
        "outputId": "5bd6df38-5bdc-4fed-d67d-b84daf486a59"
      },
      "outputs": [
        {
          "output_type": "stream",
          "name": "stdout",
          "text": [
            "Pierre\tNNP\t2\n",
            "Vinken\tNNP\t8\n",
            ",\t,\t2\n",
            "61\tCD\t5\n",
            "years\tNNS\t6\n",
            "old\tJJ\t2\n",
            ",\t,\t2\n",
            "will\tMD\t0\n",
            "join\tVB\t8\n",
            "the\tDT\t11\n",
            "board\tNN\t9\n",
            "as\tIN\t9\n",
            "a\tDT\t15\n",
            "nonexecutive\tJJ\t15\n",
            "director\tNN\t12\n",
            "Nov.\tNNP\t9\n",
            "29\tCD\t16\n",
            ".\t.\t8\n",
            "\n",
            "Mr.\tNNP\t2\n",
            "Vinken\tNNP\t3\n",
            "is\tVBZ\t0\n",
            "chairman\tNN\t3\n",
            "of\tIN\t4\n",
            "Elsevier\tNNP\t7\n",
            "N.V.\tNNP\t12\n",
            ",\t,\t12\n",
            "the\tDT\t12\n",
            "Dutch\tNNP\t12\n",
            "publishing\tVBG\t12\n",
            "group\tNN\t5\n",
            ".\t.\t3\n",
            "\n"
          ]
        }
      ],
      "source": [
        "dataset_name = \"dependency_treebank\"\n",
        "dataset_folder = os.path.join(os.getcwd(), \"Datasets\", \"Original\", dataset_name)\n",
        "file_path = os.path.join(dataset_folder, 'wsj_0001.dp')\n",
        "\n",
        "if os.path.isfile(file_path):\n",
        "    # open the file\n",
        "    with open(file_path, mode='r', encoding='utf-8') as text_file:\n",
        "        text = text_file.read()\n",
        "        print(text)"
      ]
    },
    {
      "cell_type": "markdown",
      "metadata": {
        "id": "hp0BdlSRy7_Z"
      },
      "source": [
        "As you can see, it have 3 columns that refer to the word (idx 0), the tag of the word (idx 1) and a number (idx 3), while it have multiple rows, one fore each word.\n",
        "\n",
        "## Create the Dataframe\n",
        "As described in the text we drop the third column"
      ]
    },
    {
      "cell_type": "code",
      "execution_count": null,
      "metadata": {
        "colab": {
          "base_uri": "https://localhost:8080/"
        },
        "id": "dhpwsXnam2Rn",
        "outputId": "4570c241-e5d5-470b-adcd-10e8f6dd0391"
      },
      "outputs": [
        {
          "output_type": "stream",
          "name": "stdout",
          "text": [
            "Creating the dataframe...\n"
          ]
        },
        {
          "output_type": "stream",
          "name": "stderr",
          "text": [
            "100%|██████████| 199/199 [00:00<00:00, 2561.19it/s]\n"
          ]
        },
        {
          "output_type": "stream",
          "name": "stdout",
          "text": [
            "\n",
            "Done!\n",
            "\n",
            "Checking correctness length of the dataframe... PASS!\n",
            "Checking absence of empty sentence... PASS!\n",
            "Checking absence of empty tags sentence... PASS!\n",
            "All good!\n"
          ]
        }
      ],
      "source": [
        "dataframe_rows = []\n",
        "\n",
        "print(\"Creating the dataframe...\")\n",
        "for filename in tqdm(os.listdir(dataset_folder)):\n",
        "    file_path = os.path.join(dataset_folder, filename)\n",
        "    f_number = int(filename.split(\"_\")[1].split(\".\")[0])\n",
        "    split = \"train\" if f_number < 101 else (\"val\" if f_number < 151 else \"test\")\n",
        "    try:\n",
        "        if os.path.isfile(file_path):\n",
        "            with open(file_path, mode='r', encoding='utf-8') as text_file:\n",
        "              sent_words = []\n",
        "              sent_tags = []\n",
        "              lines = text_file.readlines()\n",
        "              for line in lines:\n",
        "                if line == \"\\n\" or line == lines[-1]:\n",
        "                  if len(sent_words) != 0:\n",
        "                    dataframe_row = {\n",
        "                        \"file\": filename,\n",
        "                        \"sentence\": \" \".join(sent_words),\n",
        "                        \"labels\": \" \".join(sent_tags),\n",
        "                        \"split\": split\n",
        "                    }\n",
        "                    dataframe_rows.append(dataframe_row)\n",
        "\n",
        "                  sent_words = []\n",
        "                  sent_tags = []     \n",
        "                else:\n",
        "                  line_split = line.split()\n",
        "                  sent_words.append(line_split[0])\n",
        "                  sent_tags.append(line_split[1])      \n",
        "    except Exception as e:\n",
        "        print('Failed to process %s. Reason: %s' % (file_path, e))\n",
        "        sys.exit(0)\n",
        "\n",
        "# transform the list of rows in a proper dataframe\n",
        "df = pd.DataFrame(dataframe_rows)\n",
        "df = df[[\"file\", \"sentence\", \"labels\", \"split\"]]\n",
        "\n",
        "print(\"\\nDone!\")\n",
        "print()\n",
        "print(\"Checking correctness length of the dataframe...\", end=\"\")\n",
        "assert 199 == len(df['file'].unique()), \"Something is wrong\" \n",
        "print(\" PASS!\")\n",
        "print(\"Checking absence of empty sentence...\", end=\"\")\n",
        "assert False == any(len(sent) == 0 for sent in df[\"sentence\"]), \"Something is wrong\" \n",
        "print(\" PASS!\")\n",
        "print(\"Checking absence of empty tags sentence...\", end=\"\")\n",
        "assert False == any(len(sent) == 0 for sent in df[\"labels\"]), \"Something is wrong\" \n",
        "print(\" PASS!\")\n",
        "print(\"All good!\")\n",
        "\n",
        "df = df.sort_values(\"file\")\n",
        "df.reset_index(drop=True, inplace=True)\n",
        "                       \n",
        "dataframe_path =  os.path.join(os.getcwd(), \"Datasets\", \"Original\", dataset_name + \".pkl\")\n",
        "df.to_pickle(dataframe_path)"
      ]
    },
    {
      "cell_type": "code",
      "execution_count": null,
      "metadata": {
        "colab": {
          "base_uri": "https://localhost:8080/",
          "height": 206
        },
        "id": "Sn-ZiyAMS5DB",
        "outputId": "e14d7b16-6b23-49a7-d228-4c2dd3ab7957"
      },
      "outputs": [
        {
          "output_type": "execute_result",
          "data": {
            "text/plain": [
              "          file                                           sentence  \\\n",
              "0  wsj_0001.dp  Pierre Vinken , 61 years old , will join the b...   \n",
              "1  wsj_0001.dp  Mr. Vinken is chairman of Elsevier N.V. , the ...   \n",
              "2  wsj_0002.dp  Rudolph Agnew , 55 years old and former chairm...   \n",
              "3  wsj_0003.dp  The U.S. is one of the few industrialized nati...   \n",
              "4  wsj_0003.dp  The finding probably will support those who ar...   \n",
              "\n",
              "                                              labels  split  \n",
              "0  NNP NNP , CD NNS JJ , MD VB DT NN IN DT JJ NN ...  train  \n",
              "1          NNP NNP VBZ NN IN NNP NNP , DT NNP VBG NN  train  \n",
              "2  NNP NNP , CD NNS JJ CC JJ NN IN NNP NNP NNP NN...  train  \n",
              "3  DT NNP VBZ CD IN DT JJ VBN NNS WDT VBZ RB VB D...  train  \n",
              "4  DT NN RB MD VB DT WP VBP IN DT NNP MD VB DT NN...  train  "
            ],
            "text/html": [
              "\n",
              "  <div id=\"df-d24796ca-4c6b-47cc-9cf4-969ef6c61180\">\n",
              "    <div class=\"colab-df-container\">\n",
              "      <div>\n",
              "<style scoped>\n",
              "    .dataframe tbody tr th:only-of-type {\n",
              "        vertical-align: middle;\n",
              "    }\n",
              "\n",
              "    .dataframe tbody tr th {\n",
              "        vertical-align: top;\n",
              "    }\n",
              "\n",
              "    .dataframe thead th {\n",
              "        text-align: right;\n",
              "    }\n",
              "</style>\n",
              "<table border=\"1\" class=\"dataframe\">\n",
              "  <thead>\n",
              "    <tr style=\"text-align: right;\">\n",
              "      <th></th>\n",
              "      <th>file</th>\n",
              "      <th>sentence</th>\n",
              "      <th>labels</th>\n",
              "      <th>split</th>\n",
              "    </tr>\n",
              "  </thead>\n",
              "  <tbody>\n",
              "    <tr>\n",
              "      <th>0</th>\n",
              "      <td>wsj_0001.dp</td>\n",
              "      <td>Pierre Vinken , 61 years old , will join the b...</td>\n",
              "      <td>NNP NNP , CD NNS JJ , MD VB DT NN IN DT JJ NN ...</td>\n",
              "      <td>train</td>\n",
              "    </tr>\n",
              "    <tr>\n",
              "      <th>1</th>\n",
              "      <td>wsj_0001.dp</td>\n",
              "      <td>Mr. Vinken is chairman of Elsevier N.V. , the ...</td>\n",
              "      <td>NNP NNP VBZ NN IN NNP NNP , DT NNP VBG NN</td>\n",
              "      <td>train</td>\n",
              "    </tr>\n",
              "    <tr>\n",
              "      <th>2</th>\n",
              "      <td>wsj_0002.dp</td>\n",
              "      <td>Rudolph Agnew , 55 years old and former chairm...</td>\n",
              "      <td>NNP NNP , CD NNS JJ CC JJ NN IN NNP NNP NNP NN...</td>\n",
              "      <td>train</td>\n",
              "    </tr>\n",
              "    <tr>\n",
              "      <th>3</th>\n",
              "      <td>wsj_0003.dp</td>\n",
              "      <td>The U.S. is one of the few industrialized nati...</td>\n",
              "      <td>DT NNP VBZ CD IN DT JJ VBN NNS WDT VBZ RB VB D...</td>\n",
              "      <td>train</td>\n",
              "    </tr>\n",
              "    <tr>\n",
              "      <th>4</th>\n",
              "      <td>wsj_0003.dp</td>\n",
              "      <td>The finding probably will support those who ar...</td>\n",
              "      <td>DT NN RB MD VB DT WP VBP IN DT NNP MD VB DT NN...</td>\n",
              "      <td>train</td>\n",
              "    </tr>\n",
              "  </tbody>\n",
              "</table>\n",
              "</div>\n",
              "      <button class=\"colab-df-convert\" onclick=\"convertToInteractive('df-d24796ca-4c6b-47cc-9cf4-969ef6c61180')\"\n",
              "              title=\"Convert this dataframe to an interactive table.\"\n",
              "              style=\"display:none;\">\n",
              "        \n",
              "  <svg xmlns=\"http://www.w3.org/2000/svg\" height=\"24px\"viewBox=\"0 0 24 24\"\n",
              "       width=\"24px\">\n",
              "    <path d=\"M0 0h24v24H0V0z\" fill=\"none\"/>\n",
              "    <path d=\"M18.56 5.44l.94 2.06.94-2.06 2.06-.94-2.06-.94-.94-2.06-.94 2.06-2.06.94zm-11 1L8.5 8.5l.94-2.06 2.06-.94-2.06-.94L8.5 2.5l-.94 2.06-2.06.94zm10 10l.94 2.06.94-2.06 2.06-.94-2.06-.94-.94-2.06-.94 2.06-2.06.94z\"/><path d=\"M17.41 7.96l-1.37-1.37c-.4-.4-.92-.59-1.43-.59-.52 0-1.04.2-1.43.59L10.3 9.45l-7.72 7.72c-.78.78-.78 2.05 0 2.83L4 21.41c.39.39.9.59 1.41.59.51 0 1.02-.2 1.41-.59l7.78-7.78 2.81-2.81c.8-.78.8-2.07 0-2.86zM5.41 20L4 18.59l7.72-7.72 1.47 1.35L5.41 20z\"/>\n",
              "  </svg>\n",
              "      </button>\n",
              "      \n",
              "  <style>\n",
              "    .colab-df-container {\n",
              "      display:flex;\n",
              "      flex-wrap:wrap;\n",
              "      gap: 12px;\n",
              "    }\n",
              "\n",
              "    .colab-df-convert {\n",
              "      background-color: #E8F0FE;\n",
              "      border: none;\n",
              "      border-radius: 50%;\n",
              "      cursor: pointer;\n",
              "      display: none;\n",
              "      fill: #1967D2;\n",
              "      height: 32px;\n",
              "      padding: 0 0 0 0;\n",
              "      width: 32px;\n",
              "    }\n",
              "\n",
              "    .colab-df-convert:hover {\n",
              "      background-color: #E2EBFA;\n",
              "      box-shadow: 0px 1px 2px rgba(60, 64, 67, 0.3), 0px 1px 3px 1px rgba(60, 64, 67, 0.15);\n",
              "      fill: #174EA6;\n",
              "    }\n",
              "\n",
              "    [theme=dark] .colab-df-convert {\n",
              "      background-color: #3B4455;\n",
              "      fill: #D2E3FC;\n",
              "    }\n",
              "\n",
              "    [theme=dark] .colab-df-convert:hover {\n",
              "      background-color: #434B5C;\n",
              "      box-shadow: 0px 1px 3px 1px rgba(0, 0, 0, 0.15);\n",
              "      filter: drop-shadow(0px 1px 2px rgba(0, 0, 0, 0.3));\n",
              "      fill: #FFFFFF;\n",
              "    }\n",
              "  </style>\n",
              "\n",
              "      <script>\n",
              "        const buttonEl =\n",
              "          document.querySelector('#df-d24796ca-4c6b-47cc-9cf4-969ef6c61180 button.colab-df-convert');\n",
              "        buttonEl.style.display =\n",
              "          google.colab.kernel.accessAllowed ? 'block' : 'none';\n",
              "\n",
              "        async function convertToInteractive(key) {\n",
              "          const element = document.querySelector('#df-d24796ca-4c6b-47cc-9cf4-969ef6c61180');\n",
              "          const dataTable =\n",
              "            await google.colab.kernel.invokeFunction('convertToInteractive',\n",
              "                                                     [key], {});\n",
              "          if (!dataTable) return;\n",
              "\n",
              "          const docLinkHtml = 'Like what you see? Visit the ' +\n",
              "            '<a target=\"_blank\" href=https://colab.research.google.com/notebooks/data_table.ipynb>data table notebook</a>'\n",
              "            + ' to learn more about interactive tables.';\n",
              "          element.innerHTML = '';\n",
              "          dataTable['output_type'] = 'display_data';\n",
              "          await google.colab.output.renderOutput(dataTable, element);\n",
              "          const docLink = document.createElement('div');\n",
              "          docLink.innerHTML = docLinkHtml;\n",
              "          element.appendChild(docLink);\n",
              "        }\n",
              "      </script>\n",
              "    </div>\n",
              "  </div>\n",
              "  "
            ]
          },
          "metadata": {},
          "execution_count": 6
        }
      ],
      "source": [
        "df.head()"
      ]
    },
    {
      "cell_type": "markdown",
      "metadata": {
        "id": "o64QtpID5HFN"
      },
      "source": [
        "## Data esploration"
      ]
    },
    {
      "cell_type": "code",
      "execution_count": null,
      "metadata": {
        "colab": {
          "base_uri": "https://localhost:8080/"
        },
        "id": "FZ70JWm8VnXp",
        "outputId": "bcaac1de-d686-47cc-f528-2487d00d7d1c"
      },
      "outputs": [
        {
          "output_type": "stream",
          "name": "stdout",
          "text": [
            "Total number of sentence: 3940\n",
            "Total number of files: 199\n"
          ]
        }
      ],
      "source": [
        "print(f\"Total number of sentence: {df.shape[0]}\")\n",
        "print(f\"Total number of files: {len(df['file'].unique())}\")"
      ]
    },
    {
      "cell_type": "code",
      "execution_count": null,
      "metadata": {
        "colab": {
          "base_uri": "https://localhost:8080/"
        },
        "id": "t6hyggR0WuBU",
        "outputId": "2c28ecbc-f8a0-46ef-ba9e-9bb615d2d43f"
      },
      "outputs": [
        {
          "output_type": "stream",
          "name": "stdout",
          "text": [
            "Dataframe keys: ['file', 'sentence', 'labels', 'split']\n"
          ]
        }
      ],
      "source": [
        "print(f\"Dataframe keys: {list(df.keys())}\")"
      ]
    },
    {
      "cell_type": "code",
      "execution_count": null,
      "metadata": {
        "colab": {
          "base_uri": "https://localhost:8080/"
        },
        "id": "rPU5SUxHWyiB",
        "outputId": "430d780c-187b-43e4-ffdb-699ce53c8404"
      },
      "outputs": [
        {
          "output_type": "stream",
          "name": "stdout",
          "text": [
            "Example of POS tagged sentence:\n",
            "Pierre \\NNP Vinken \\NNP , \\, 61 \\CD years \\NNS old \\JJ , \\, will \\MD join \\VB the \\DT board \\NN as \\IN a \\DT nonexecutive \\JJ director \\NN Nov. \\NNP 29 \\CD . \\. \n"
          ]
        }
      ],
      "source": [
        "print(\"Example of POS tagged sentence:\")\n",
        "\n",
        "pos_tagged_sent = \"\"\n",
        "for word, tag in zip(df.loc[0, 'sentence'].split(), df.loc[0, 'labels'].split()):\n",
        "  pos_tagged_sent += word + \" \\\\\" + tag + \" \"\n",
        "\n",
        "print(pos_tagged_sent)"
      ]
    },
    {
      "cell_type": "code",
      "execution_count": null,
      "metadata": {
        "colab": {
          "base_uri": "https://localhost:8080/"
        },
        "id": "Py_xTT_e5slP",
        "outputId": "144a01f5-ae34-4e1a-e84c-6e4d56b172f3"
      },
      "outputs": [
        {
          "output_type": "stream",
          "name": "stdout",
          "text": [
            "Distribution of splits: \n",
            "train    1974\n",
            "val      1312\n",
            "test      654\n",
            "Name: split, dtype: int64\n",
            "\n"
          ]
        }
      ],
      "source": [
        "print(\"Distribution of splits: \")\n",
        "print(df['split'].value_counts())\n",
        "print()"
      ]
    },
    {
      "cell_type": "code",
      "execution_count": null,
      "metadata": {
        "colab": {
          "base_uri": "https://localhost:8080/",
          "height": 336
        },
        "id": "subvj2iAYzQv",
        "outputId": "36e8ef84-b115-4ede-b156-acc458d21571"
      },
      "outputs": [
        {
          "output_type": "display_data",
          "data": {
            "text/plain": [
              "<Figure size 1440x360 with 3 Axes>"
            ],
            "image/png": "[encoded data removed]"
          },
          "metadata": {
            "needs_background": "light"
          }
        }
      ],
      "source": [
        "%matplotlib inline\n",
        "\n",
        "fig, (ax1, ax2, ax3) = plt.subplots(1, 3, figsize=(20, 5))\n",
        "ax1.hist(list(map(lambda x: len(x.split()), df.loc[(df['split'] == 'train'), ['sentence']][\"sentence\"])))\n",
        "ax1.set_title(\"Sentence length - Train\")\n",
        "ax2.hist(list(map(lambda x: len(x.split()), df.loc[(df['split'] == 'val'), ['sentence']][\"sentence\"])))\n",
        "ax2.set_title(\"Sentence length - Val\")\n",
        "ax3.hist(list(map(lambda x: len(x.split()), df.loc[(df['split'] == 'test'), ['sentence']][\"sentence\"])))\n",
        "ax3.set_title(\"Sentence length - Test\")\n",
        "plt.show()"
      ]
    },
    {
      "cell_type": "code",
      "execution_count": null,
      "metadata": {
        "colab": {
          "base_uri": "https://localhost:8080/",
          "height": 336
        },
        "id": "UDxCTtdl6ARn",
        "outputId": "5b55003c-8288-4a6d-cc27-0328e000ef9d"
      },
      "outputs": [
        {
          "output_type": "display_data",
          "data": {
            "text/plain": [
              "<Figure size 1440x360 with 3 Axes>"
            ],
            "image/png": "[encoded data removed]"
          },
          "metadata": {
            "needs_background": "light"
          }
        }
      ],
      "source": [
        "%matplotlib inline\n",
        "\n",
        "fig, (ax1, ax2, ax3) = plt.subplots(1, 3, figsize=(20, 5))\n",
        "ax1.hist(list(map(lambda x: len(x.split()), df.loc[(df['split'] == 'train'), ['labels']][\"labels\"])))\n",
        "ax1.set_title(\"Labels length - Train\")\n",
        "ax2.hist(list(map(lambda x: len(x.split()), df.loc[(df['split'] == 'val'), ['labels']][\"labels\"])))\n",
        "ax2.set_title(\"Labels length - Val\")\n",
        "ax3.hist(list(map(lambda x: len(x.split()), df.loc[(df['split'] == 'test'), ['labels']][\"labels\"])))\n",
        "ax3.set_title(\"Labels length - Test\")\n",
        "plt.show()"
      ]
    },
    {
      "cell_type": "markdown",
      "metadata": {
        "id": "hgb9UF4WbAfY"
      },
      "source": [
        "## Build the vocabulary\n",
        "Split dataframe in train test and validation"
      ]
    },
    {
      "cell_type": "code",
      "execution_count": null,
      "metadata": {
        "colab": {
          "base_uri": "https://localhost:8080/"
        },
        "id": "N5-r5i0_dNgD",
        "outputId": "b3e8a0d6-247b-40bb-bf34-556ec731bb54"
      },
      "outputs": [
        {
          "output_type": "stream",
          "name": "stdout",
          "text": [
            "Train shape: (1974, 4)\n",
            "  Val shape: (1312, 4)\n",
            " Test shape:  (654, 4)\n"
          ]
        }
      ],
      "source": [
        "train = df.loc[df['split'] == \"train\"]\n",
        "val = df.loc[df['split'] == \"val\"]\n",
        "test = df.loc[df['split'] == \"test\"]\n",
        "\n",
        "val.reset_index(drop=True, inplace=True)\n",
        "test.reset_index(drop=True, inplace=True)\n",
        "\n",
        "print(f\"Train shape: {train.shape}\")\n",
        "print(f\"  Val shape: {val.shape}\")\n",
        "print(f\" Test shape:  {test.shape}\")"
      ]
    },
    {
      "cell_type": "markdown",
      "metadata": {
        "id": "dhu76L4l-Yjf"
      },
      "source": [
        "Buid the vocabulary and tokenize inputs"
      ]
    },
    {
      "cell_type": "code",
      "execution_count": null,
      "metadata": {
        "id": "ecxhCY--E5K3",
        "colab": {
          "base_uri": "https://localhost:8080/"
        },
        "outputId": "ca7bb14f-69b2-4a10-d74c-5a0cb1b49fa5"
      },
      "outputs": [
        {
          "output_type": "stream",
          "name": "stdout",
          "text": [
            "[==================================================] 100.0% 66.0/66.0MB downloaded\n"
          ]
        }
      ],
      "source": [
        "emb_model = gloader.load(\"glove-wiki-gigaword-50\")\n",
        "emb_dim = 50"
      ]
    },
    {
      "cell_type": "code",
      "execution_count": null,
      "metadata": {
        "id": "lE-nUPUzWb8E"
      },
      "outputs": [],
      "source": [
        "word_tokenizer_args = {\n",
        "    \"lower\": False,\n",
        "    \"oov_token\": \"UNK\",\n",
        "    \"filters\": \"\"\n",
        "}\n",
        "\n",
        "tag_tokenizer_args = {\n",
        "    \"lower\": False,\n",
        "    \"filters\": \"\"\n",
        "}"
      ]
    },
    {
      "cell_type": "code",
      "execution_count": null,
      "metadata": {
        "id": "_kMqbEX7Dxk0"
      },
      "outputs": [],
      "source": [
        "class MyTokenizer:\n",
        "\n",
        "  def __init__(self, tokenizer_args):\n",
        "    self.tokenizer = Tokenizer(**tokenizer_args)\n",
        "    self.word_to_idx = {}\n",
        "    self.idx_to_word = {}\n",
        "    self.vocab_size = 0\n",
        "    self.oov_split_terms = [None, None, None]\n",
        "\n",
        "  def get_oov_terms(self, emb_model, split):\n",
        "    prev_oov_term = set([oov_term for oov_terms in self.oov_split_terms if oov_terms is not None for oov_term in oov_terms])\n",
        "    oov = set(self.word_to_idx.keys()).difference(set(emb_model.vocab.keys() | prev_oov_term))\n",
        "    self.oov_split_terms[split] = oov\n",
        "    return oov\n",
        "\n",
        "  def build_vocab(self, data):\n",
        "    self.tokenizer.fit_on_texts(data)\n",
        "    self.word_to_idx = self.tokenizer.word_index\n",
        "    self.idx_to_word = self.tokenizer.index_word\n",
        "    self.vocab_size =  len(self.word_to_idx)\n",
        "  \n",
        "  def texts_to_sequences(self, data):\n",
        "    return self.tokenizer.texts_to_sequences(data)"
      ]
    },
    {
      "cell_type": "markdown",
      "metadata": {
        "id": "0K6s7Fsi-TTZ"
      },
      "source": [
        "Padding and label one-hot encoding"
      ]
    },
    {
      "cell_type": "code",
      "execution_count": null,
      "metadata": {
        "id": "bnVcRHtnI1dH"
      },
      "outputs": [],
      "source": [
        "def create_emb_matrix(word_to_index, emb_dim, oov_terms, verbose=False):\n",
        "  emb_matrix = np.zeros((len(word_to_index)+1, emb_dim), dtype=np.float32)\n",
        "  count_lower, count_ngrams, count_rand_emb = [0, 0, 0]\n",
        "\n",
        "  for word, idx in tqdm(word_to_index.items()):\n",
        "    if word not in oov_terms:\n",
        "      emb_vector = emb_model[word]\n",
        "    else:\n",
        "      try: # se non trovata, la cerchiamo lower\n",
        "        emb_vector = emb_model[word.lower()]\n",
        "        count_lower +=1\n",
        "      except (KeyError, TypeError):\n",
        "        try: # se non c'è lower, cerchiamo se è composta del tipo word1-word2\n",
        "          word_split = word.split(\"-\")\n",
        "          if len(word_split) >= 2:\n",
        "            word_emb = []\n",
        "            for w in word_split:\n",
        "              word_emb.append(emb_model[w.lower()])\n",
        "            emb_vector = np.mean(np.array(word_emb), axis=0)\n",
        "            count_ngrams += 1\n",
        "          else:\n",
        "            emb_vector = np.random.uniform(low=-0.05, high=0.05, size=emb_dim)\n",
        "            count_rand_emb += 1\n",
        "        except (KeyError, TypeError): # nel caso non sia nessuno dei casi precenti lasciamo l'embedding a 0\n",
        "          emb_vector = np.random.uniform(low=-0.05, high=0.05, size=emb_dim)\n",
        "          count_rand_emb += 1\n",
        "\n",
        "    emb_matrix[idx] = emb_vector\n",
        "\n",
        "  if verbose:\n",
        "    print()\n",
        "    print(f\"Total number of OOV terms: {len(oov_terms)}\")\n",
        "    print(f\"Number of lower OOV terms: {count_lower}\")\n",
        "    print(f\"Number of n-grams OOV terms: {count_ngrams}\")\n",
        "    print(f\"Number of random embedding OOV terms: {count_rand_emb}\")\n",
        "\n",
        "  return emb_matrix"
      ]
    },
    {
      "cell_type": "markdown",
      "metadata": {
        "id": "7ztlmVvssk4u"
      },
      "source": [
        "### Reduce OOV words\n"
      ]
    },
    {
      "cell_type": "code",
      "execution_count": null,
      "metadata": {
        "colab": {
          "base_uri": "https://localhost:8080/"
        },
        "id": "5-omkkHwHMe9",
        "outputId": "43b20989-3070-446a-e098-d1bb0601d37c"
      },
      "outputs": [
        {
          "output_type": "stream",
          "name": "stdout",
          "text": [
            "Checking OOV terms...\n",
            "Total number of words is: 8009\n",
            "Total number of train OOV words is: 2346\n",
            "Percentage of OOV words w.r.t the Glove vocabulary (V2): 29.3%\n",
            "\n",
            "Checking OOV terms...\n",
            "Total number of words is: 10819\n",
            "Total number of val OOV words is: 944\n",
            "Percentage of OOV words w.r.t the V2 vocabulary (V3): 8.7%\n",
            "\n",
            "Checking OOV terms...\n",
            "Total number of words is: 11968\n",
            "Total number of test OOV words is: 455\n",
            "Percentage of OOV words w.r.t the V3 vocabulary (V4): 3.8%\n"
          ]
        }
      ],
      "source": [
        "# V1 (in our assignment )\n",
        "tokenizer = MyTokenizer(word_tokenizer_args)\n",
        "\n",
        "# V2 = V1 + OOV1\n",
        "tokenizer.build_vocab(train.sentence.values)\n",
        "print('Checking OOV terms...')\n",
        "train_oov = tokenizer.get_oov_terms(emb_model, split=0) # split 0 means that it's for training \n",
        "print('Total number of words is: {}'.format(tokenizer.vocab_size))\n",
        "print('Total number of train OOV words is: {}'.format(len(train_oov)))\n",
        "print('Percentage of OOV words w.r.t the Glove vocabulary (V2): {:.1f}%'.format(len(train_oov) / tokenizer.vocab_size * 100)) \n",
        "#embedding_matrix = create_emb_matrix(tokenizer.word_to_idx, emb_dim, verbose=True)\n",
        "print()\n",
        "\n",
        "# V3\n",
        "tokenizer.build_vocab(val.sentence.values)\n",
        "print('Checking OOV terms...')\n",
        "val_oov = tokenizer.get_oov_terms(emb_model, split=1) # split 1 means that it's for val \n",
        "print('Total number of words is: {}'.format(tokenizer.vocab_size))\n",
        "print('Total number of val OOV words is: {}'.format(len(val_oov)))\n",
        "print('Percentage of OOV words w.r.t the V2 vocabulary (V3): {:.1f}%'.format(len(val_oov) / tokenizer.vocab_size * 100))\n",
        "#embedding_matrix = create_emb_matrix(tokenizer.word_to_idx, emb_dim, verbose=True)\n",
        "print()\n",
        "\n",
        "# V4\n",
        "tokenizer.build_vocab(test.sentence.values)\n",
        "print('Checking OOV terms...')\n",
        "test_oov = tokenizer.get_oov_terms(emb_model, split=2) # split 2 means that it's for test \n",
        "print('Total number of words is: {}'.format(tokenizer.vocab_size))\n",
        "print('Total number of test OOV words is: {}'.format(len(test_oov)))\n",
        "print('Percentage of OOV words w.r.t the V3 vocabulary (V4): {:.1f}%'.format(len(test_oov) / tokenizer.vocab_size * 100))\n",
        "#embedding_matrix = create_emb_matrix(tokenizer.word_to_idx, emb_dim, verbose=True)\n"
      ]
    },
    {
      "cell_type": "code",
      "source": [
        "tot_oov_terms = set(train_oov | val_oov | test_oov)\n",
        "embedding_matrix = create_emb_matrix(tokenizer.word_to_idx, emb_dim, tot_oov_terms, verbose=True)"
      ],
      "metadata": {
        "colab": {
          "base_uri": "https://localhost:8080/"
        },
        "id": "mB6rtHd5_Vko",
        "outputId": "6f82eeb1-9238-4738-f4ad-9bb9a7c38586"
      },
      "execution_count": null,
      "outputs": [
        {
          "output_type": "stream",
          "name": "stderr",
          "text": [
            "100%|██████████| 11968/11968 [00:00<00:00, 207556.91it/s]"
          ]
        },
        {
          "output_type": "stream",
          "name": "stdout",
          "text": [
            "\n",
            "Total number of OOV terms: 3745\n",
            "Number of lower OOV terms: 3059\n",
            "Number of n-grams OOV terms: 371\n",
            "Number of random embedding OOV terms: 315\n"
          ]
        },
        {
          "output_type": "stream",
          "name": "stderr",
          "text": [
            "\n"
          ]
        }
      ]
    },
    {
      "cell_type": "markdown",
      "source": [
        "## Train, test and val split"
      ],
      "metadata": {
        "id": "7RoZslX34A4X"
      }
    },
    {
      "cell_type": "code",
      "source": [
        "x_train = train.sentence.values\n",
        "y_train = train.labels.values\n",
        "\n",
        "x_val = val.sentence.values\n",
        "y_val = val.labels.values\n",
        "\n",
        "x_test = test.sentence.values\n",
        "y_test = test.labels.values"
      ],
      "metadata": {
        "id": "kWRfgTLO4IMA"
      },
      "execution_count": null,
      "outputs": []
    },
    {
      "cell_type": "code",
      "source": [
        "print(\"** Raw word and tags sentence **\", \"\\n\", \"-\"*100, \"\\n\")\n",
        "print('Sentence: ',x_train[0], '\\n')\n",
        "print('tag: ', y_train[0], '\\n')\n",
        "print()\n",
        "\n",
        "#word_tokenizer = MyTokenizer(word_tokenizer_args)\n",
        "#word_tokenizer.build_vocab(x_train)\n",
        "x_train = tokenizer.texts_to_sequences(x_train)\n",
        "x_val = tokenizer.texts_to_sequences(x_val)  \n",
        "x_test = tokenizer.texts_to_sequences(x_test)  \n",
        "\n",
        "tag_tokenizer = MyTokenizer(tag_tokenizer_args)\n",
        "tag_tokenizer.build_vocab(y_train)\n",
        "y_train = tag_tokenizer.texts_to_sequences(y_train)\n",
        "y_val = tag_tokenizer.texts_to_sequences(y_val)  \n",
        "y_test = tag_tokenizer.texts_to_sequences(y_test)  \n",
        "\n",
        "print(\"** Tokenized word and tags sentence **\", \"\\n\", \"-\"*100, \"\\n\")\n",
        "print('Sentence: ',x_train[0], '\\n')\n",
        "print('Tags: ', y_train[0], '\\n')\n",
        "print()\n",
        "\n",
        "print(f\"Word vocabulary size: {tokenizer.vocab_size}\")\n",
        "print(f\"Tag vocabulary size: {tag_tokenizer.vocab_size}\")"
      ],
      "metadata": {
        "colab": {
          "base_uri": "https://localhost:8080/"
        },
        "id": "ODF-Uqjhqa0h",
        "outputId": "0c43a530-29b7-4d76-c1d1-3de317ef5a1f"
      },
      "execution_count": null,
      "outputs": [
        {
          "output_type": "stream",
          "name": "stdout",
          "text": [
            "** Raw word and tags sentence ** \n",
            " ---------------------------------------------------------------------------------------------------- \n",
            "\n",
            "Sentence:  Pierre Vinken , 61 years old , will join the board as a nonexecutive director Nov. 29 . \n",
            "\n",
            "tag:  NNP NNP , CD NNS JJ , MD VB DT NN IN DT JJ NN NNP CD . \n",
            "\n",
            "\n",
            "** Tokenized word and tags sentence ** \n",
            " ---------------------------------------------------------------------------------------------------- \n",
            "\n",
            "Sentence:  [5765, 3929, 2, 2072, 81, 429, 2, 38, 2481, 3, 336, 26, 7, 2073, 308, 430, 2074, 4] \n",
            "\n",
            "Tags:  [2, 2, 7, 11, 5, 6, 7, 20, 12, 4, 1, 3, 4, 6, 1, 2, 11, 8] \n",
            "\n",
            "\n",
            "Word vocabulary size: 11968\n",
            "Tag vocabulary size: 45\n"
          ]
        }
      ]
    },
    {
      "cell_type": "code",
      "source": [
        "max_seq_len = int(np.quantile([len(seq) for seq in x_train], 0.99))\n",
        "\n",
        "x_train = pad_sequences(x_train, maxlen = max_seq_len)\n",
        "x_val = pad_sequences(x_val, maxlen = max_seq_len)\n",
        "x_test = pad_sequences(x_test, maxlen = max_seq_len)\n",
        "\n",
        "y_train = pad_sequences(y_train, maxlen = max_seq_len)\n",
        "y_val = pad_sequences(y_val, maxlen = max_seq_len)\n",
        "y_test = pad_sequences(y_test, maxlen = max_seq_len)\n",
        "\n",
        "y_train = to_categorical(y_train, num_classes=tag_tokenizer.vocab_size+1)\n",
        "y_val = to_categorical(y_val, num_classes=tag_tokenizer.vocab_size+1)\n",
        "y_test = to_categorical(y_test, num_classes=tag_tokenizer.vocab_size+1)"
      ],
      "metadata": {
        "id": "QEtonr3tqeyc"
      },
      "execution_count": null,
      "outputs": []
    },
    {
      "cell_type": "markdown",
      "metadata": {
        "id": "T9W5UOnJZdjf"
      },
      "source": [
        "## Build the model"
      ]
    },
    {
      "cell_type": "code",
      "execution_count": null,
      "metadata": {
        "id": "kas1ti-1d-1Q"
      },
      "outputs": [],
      "source": [
        "def display_history(history, *args):\n",
        "  for arg in args:\n",
        "    train = history.history[arg]\n",
        "    val = history.history[f\"val_{arg}\"]\n",
        "\n",
        "    plt.plot(train)\n",
        "    plt.plot(val)\n",
        "    plt.grid()\n",
        "    plt.title(f\"{arg} during training\")\n",
        "    plt.xlabel('Epoch')\n",
        "    plt.legend(['Training', 'Validation'])\n",
        "    plt.show()\n",
        "\n",
        "train_params = {\n",
        "    'epochs': 80,\n",
        "    'batch_size': 64,\n",
        "    'verbose': 1,\n",
        "    'callbacks': [\n",
        "    keras.callbacks.EarlyStopping(monitor='val_loss',\n",
        "                               mode='min',\n",
        "                               patience=3,\n",
        "                               verbose=1,\n",
        "                               restore_best_weights=True)]\n",
        "}"
      ]
    },
    {
      "cell_type": "markdown",
      "metadata": {
        "id": "hgu64jF5dww9"
      },
      "source": [
        "### Model: BiLSTM + TD-Dense"
      ]
    },
    {
      "cell_type": "code",
      "execution_count": null,
      "metadata": {
        "colab": {
          "base_uri": "https://localhost:8080/"
        },
        "id": "u5qn96NLZfth",
        "outputId": "8325ee3f-bb4a-4463-9668-bffee7b31abc"
      },
      "outputs": [
        {
          "output_type": "stream",
          "name": "stdout",
          "text": [
            "Model: \"sequential_3\"\n",
            "_________________________________________________________________\n",
            " Layer (type)                Output Shape              Param #   \n",
            "=================================================================\n",
            " embedding_3 (Embedding)     (None, 56, 50)            598450    \n",
            "                                                                 \n",
            " bidirectional_3 (Bidirectio  (None, 56, 256)          183296    \n",
            " nal)                                                            \n",
            "                                                                 \n",
            " time_distributed_3 (TimeDis  (None, 56, 46)           11822     \n",
            " tributed)                                                       \n",
            "                                                                 \n",
            "=================================================================\n",
            "Total params: 793,568\n",
            "Trainable params: 195,118\n",
            "Non-trainable params: 598,450\n",
            "_________________________________________________________________\n"
          ]
        }
      ],
      "source": [
        "LSTM_UNITS = 128\n",
        "\n",
        "lstm_model = Sequential()\n",
        "lstm_model.add(Embedding(tokenizer.vocab_size+1,\n",
        "                         emb_dim,\n",
        "                         weights = [embedding_matrix],\n",
        "                         input_length=max_seq_len,\n",
        "                         mask_zero = True,\n",
        "                         trainable = False))\n",
        "lstm_model.add(Bidirectional(LSTM(LSTM_UNITS, return_sequences=True)))\n",
        "lstm_model.add(TimeDistributed(Dense(tag_tokenizer.vocab_size+1, activation = 'softmax')))\n",
        "\n",
        "lstm_model.compile(loss='categorical_crossentropy',\n",
        "                   optimizer= keras.optimizers.Adam(),\n",
        "                   metrics=['categorical_accuracy'])\n",
        "lstm_model.summary()"
      ]
    },
    {
      "cell_type": "code",
      "execution_count": null,
      "metadata": {
        "colab": {
          "base_uri": "https://localhost:8080/"
        },
        "id": "ntBUcVN8mrIR",
        "outputId": "daedf892-c13f-4f6e-d935-29f0f33c6622"
      },
      "outputs": [
        {
          "output_type": "stream",
          "name": "stdout",
          "text": [
            "Epoch 1/80\n",
            "31/31 [==============================] - 29s 626ms/step - loss: 2.9765 - categorical_accuracy: 0.2171 - val_loss: 2.5529 - val_categorical_accuracy: 0.3383\n",
            "Epoch 2/80\n",
            "31/31 [==============================] - 18s 600ms/step - loss: 2.2278 - categorical_accuracy: 0.4283 - val_loss: 1.9005 - val_categorical_accuracy: 0.5174\n",
            "Epoch 3/80\n",
            "31/31 [==============================] - 21s 687ms/step - loss: 1.6287 - categorical_accuracy: 0.5814 - val_loss: 1.4396 - val_categorical_accuracy: 0.6161\n",
            "Epoch 4/80\n",
            "31/31 [==============================] - 24s 789ms/step - loss: 1.2593 - categorical_accuracy: 0.6789 - val_loss: 1.1774 - val_categorical_accuracy: 0.6888\n",
            "Epoch 5/80\n",
            "31/31 [==============================] - 20s 647ms/step - loss: 1.0513 - categorical_accuracy: 0.7270 - val_loss: 1.0236 - val_categorical_accuracy: 0.7216\n",
            "Epoch 6/80\n",
            "31/31 [==============================] - 21s 688ms/step - loss: 0.9208 - categorical_accuracy: 0.7542 - val_loss: 0.9258 - val_categorical_accuracy: 0.7466\n",
            "Epoch 7/80\n",
            "31/31 [==============================] - 17s 554ms/step - loss: 0.8322 - categorical_accuracy: 0.7758 - val_loss: 0.8573 - val_categorical_accuracy: 0.7614\n",
            "Epoch 8/80\n",
            "31/31 [==============================] - 21s 681ms/step - loss: 0.7698 - categorical_accuracy: 0.7891 - val_loss: 0.8100 - val_categorical_accuracy: 0.7704\n",
            "Epoch 9/80\n",
            "31/31 [==============================] - 23s 753ms/step - loss: 0.7197 - categorical_accuracy: 0.8004 - val_loss: 0.7722 - val_categorical_accuracy: 0.7787\n",
            "Epoch 10/80\n",
            "31/31 [==============================] - 21s 682ms/step - loss: 0.6752 - categorical_accuracy: 0.8118 - val_loss: 0.7333 - val_categorical_accuracy: 0.7896\n",
            "Epoch 11/80\n",
            "31/31 [==============================] - 17s 544ms/step - loss: 0.6385 - categorical_accuracy: 0.8208 - val_loss: 0.7068 - val_categorical_accuracy: 0.7965\n",
            "Epoch 12/80\n",
            "31/31 [==============================] - 18s 584ms/step - loss: 0.6067 - categorical_accuracy: 0.8291 - val_loss: 0.6803 - val_categorical_accuracy: 0.8033\n",
            "Epoch 13/80\n",
            "31/31 [==============================] - 18s 577ms/step - loss: 0.5786 - categorical_accuracy: 0.8364 - val_loss: 0.6616 - val_categorical_accuracy: 0.8079\n",
            "Epoch 14/80\n",
            "31/31 [==============================] - 18s 580ms/step - loss: 0.5556 - categorical_accuracy: 0.8420 - val_loss: 0.6427 - val_categorical_accuracy: 0.8121\n",
            "Epoch 15/80\n",
            "31/31 [==============================] - 21s 680ms/step - loss: 0.5307 - categorical_accuracy: 0.8482 - val_loss: 0.6253 - val_categorical_accuracy: 0.8153\n",
            "Epoch 16/80\n",
            "31/31 [==============================] - 18s 580ms/step - loss: 0.5119 - categorical_accuracy: 0.8532 - val_loss: 0.6088 - val_categorical_accuracy: 0.8208\n",
            "Epoch 17/80\n",
            "31/31 [==============================] - 18s 602ms/step - loss: 0.4890 - categorical_accuracy: 0.8589 - val_loss: 0.5975 - val_categorical_accuracy: 0.8228\n",
            "Epoch 18/80\n",
            "31/31 [==============================] - 22s 741ms/step - loss: 0.4709 - categorical_accuracy: 0.8644 - val_loss: 0.5839 - val_categorical_accuracy: 0.8270\n",
            "Epoch 19/80\n",
            "31/31 [==============================] - 17s 549ms/step - loss: 0.4521 - categorical_accuracy: 0.8712 - val_loss: 0.5719 - val_categorical_accuracy: 0.8303\n",
            "Epoch 20/80\n",
            "31/31 [==============================] - 17s 555ms/step - loss: 0.4377 - categorical_accuracy: 0.8757 - val_loss: 0.5640 - val_categorical_accuracy: 0.8315\n",
            "Epoch 21/80\n",
            "31/31 [==============================] - 24s 772ms/step - loss: 0.4206 - categorical_accuracy: 0.8805 - val_loss: 0.5531 - val_categorical_accuracy: 0.8356\n",
            "Epoch 22/80\n",
            "31/31 [==============================] - 22s 710ms/step - loss: 0.4031 - categorical_accuracy: 0.8863 - val_loss: 0.5439 - val_categorical_accuracy: 0.8386\n",
            "Epoch 23/80\n",
            "31/31 [==============================] - 21s 686ms/step - loss: 0.3887 - categorical_accuracy: 0.8895 - val_loss: 0.5358 - val_categorical_accuracy: 0.8395\n",
            "Epoch 24/80\n",
            "31/31 [==============================] - 18s 582ms/step - loss: 0.3745 - categorical_accuracy: 0.8953 - val_loss: 0.5265 - val_categorical_accuracy: 0.8419\n",
            "Epoch 25/80\n",
            "31/31 [==============================] - 22s 718ms/step - loss: 0.3590 - categorical_accuracy: 0.9003 - val_loss: 0.5235 - val_categorical_accuracy: 0.8426\n",
            "Epoch 26/80\n",
            "31/31 [==============================] - 23s 739ms/step - loss: 0.3471 - categorical_accuracy: 0.9033 - val_loss: 0.5177 - val_categorical_accuracy: 0.8446\n",
            "Epoch 27/80\n",
            "31/31 [==============================] - 22s 704ms/step - loss: 0.3349 - categorical_accuracy: 0.9071 - val_loss: 0.5097 - val_categorical_accuracy: 0.8474\n",
            "Epoch 28/80\n",
            "31/31 [==============================] - 28s 914ms/step - loss: 0.3216 - categorical_accuracy: 0.9122 - val_loss: 0.5050 - val_categorical_accuracy: 0.8477\n",
            "Epoch 29/80\n",
            "31/31 [==============================] - 20s 654ms/step - loss: 0.3093 - categorical_accuracy: 0.9158 - val_loss: 0.5040 - val_categorical_accuracy: 0.8470\n",
            "Epoch 30/80\n",
            "31/31 [==============================] - 28s 914ms/step - loss: 0.2979 - categorical_accuracy: 0.9204 - val_loss: 0.4971 - val_categorical_accuracy: 0.8496\n",
            "Epoch 31/80\n",
            "31/31 [==============================] - 18s 587ms/step - loss: 0.2864 - categorical_accuracy: 0.9240 - val_loss: 0.4934 - val_categorical_accuracy: 0.8495\n",
            "Epoch 32/80\n",
            "31/31 [==============================] - 24s 776ms/step - loss: 0.2760 - categorical_accuracy: 0.9263 - val_loss: 0.4892 - val_categorical_accuracy: 0.8529\n",
            "Epoch 33/80\n",
            "31/31 [==============================] - 20s 656ms/step - loss: 0.2642 - categorical_accuracy: 0.9311 - val_loss: 0.4859 - val_categorical_accuracy: 0.8522\n",
            "Epoch 34/80\n",
            "31/31 [==============================] - 27s 879ms/step - loss: 0.2532 - categorical_accuracy: 0.9344 - val_loss: 0.4866 - val_categorical_accuracy: 0.8530\n",
            "Epoch 35/80\n",
            "31/31 [==============================] - 18s 588ms/step - loss: 0.2437 - categorical_accuracy: 0.9372 - val_loss: 0.4849 - val_categorical_accuracy: 0.8528\n",
            "Epoch 36/80\n",
            "31/31 [==============================] - 17s 553ms/step - loss: 0.2356 - categorical_accuracy: 0.9400 - val_loss: 0.4827 - val_categorical_accuracy: 0.8546\n",
            "Epoch 37/80\n",
            "31/31 [==============================] - 23s 746ms/step - loss: 0.2250 - categorical_accuracy: 0.9430 - val_loss: 0.4809 - val_categorical_accuracy: 0.8549\n",
            "Epoch 38/80\n",
            "31/31 [==============================] - 20s 648ms/step - loss: 0.2148 - categorical_accuracy: 0.9472 - val_loss: 0.4790 - val_categorical_accuracy: 0.8553\n",
            "Epoch 39/80\n",
            "31/31 [==============================] - 27s 880ms/step - loss: 0.2054 - categorical_accuracy: 0.9503 - val_loss: 0.4863 - val_categorical_accuracy: 0.8529\n",
            "Epoch 40/80\n",
            "31/31 [==============================] - 24s 788ms/step - loss: 0.1975 - categorical_accuracy: 0.9526 - val_loss: 0.4796 - val_categorical_accuracy: 0.8550\n",
            "Epoch 41/80\n",
            "31/31 [==============================] - ETA: 0s - loss: 0.1893 - categorical_accuracy: 0.9552Restoring model weights from the end of the best epoch: 38.\n",
            "31/31 [==============================] - 28s 925ms/step - loss: 0.1893 - categorical_accuracy: 0.9552 - val_loss: 0.4792 - val_categorical_accuracy: 0.8574\n",
            "Epoch 41: early stopping\n"
          ]
        }
      ],
      "source": [
        "lstm_history = lstm_model.fit(x_train, y_train, validation_data=(x_val, y_val), **train_params)"
      ]
    },
    {
      "cell_type": "code",
      "source": [
        "loss, accuracy = lstm_model.evaluate(x_test, y_test, verbose = 1)\n",
        "print(\"Loss: {0},\\nAccuracy: {1}\".format(loss, accuracy))"
      ],
      "metadata": {
        "colab": {
          "base_uri": "https://localhost:8080/"
        },
        "id": "wMytYoB2_7B6",
        "outputId": "702de332-2ffb-4f0f-ccc1-351adfba9f9d"
      },
      "execution_count": null,
      "outputs": [
        {
          "output_type": "stream",
          "name": "stdout",
          "text": [
            "21/21 [==============================] - 14s 705ms/step - loss: 0.4202 - categorical_accuracy: 0.8708\n",
            "Loss: 0.42021870613098145,\n",
            "Accuracy: 0.8708006739616394\n"
          ]
        }
      ]
    },
    {
      "cell_type": "code",
      "execution_count": null,
      "metadata": {
        "id": "JnDv14tWGFYz"
      },
      "outputs": [],
      "source": [
        "#lstm_model.save_weights(\"lstm.h5\", overwrite=True, save_format=None, options=None)"
      ]
    },
    {
      "cell_type": "code",
      "execution_count": null,
      "metadata": {
        "id": "sNoUjtNISL78",
        "colab": {
          "base_uri": "https://localhost:8080/",
          "height": 573
        },
        "outputId": "3464dae6-2d29-45a5-ade0-0c3dd20a9a23"
      },
      "outputs": [
        {
          "output_type": "display_data",
          "data": {
            "text/plain": [
              "<Figure size 432x288 with 1 Axes>"
            ],
            "image/png": "[encoded data removed]"
          },
          "metadata": {
            "needs_background": "light"
          }
        },
        {
          "output_type": "display_data",
          "data": {
            "text/plain": [
              "<Figure size 432x288 with 1 Axes>"
            ],
            "image/png": "[encoded data removed]"
          },
          "metadata": {
            "needs_background": "light"
          }
        }
      ],
      "source": [
        "display_history(lstm_history, \"loss\", \"categorical_accuracy\")"
      ]
    },
    {
      "cell_type": "markdown",
      "metadata": {
        "id": "5nFHS6I1eOFM"
      },
      "source": [
        "### Model: 2xBiLSTM + TD-Dense"
      ]
    },
    {
      "cell_type": "code",
      "execution_count": null,
      "metadata": {
        "id": "O8nB0wr3eZ3A"
      },
      "outputs": [],
      "source": [
        "lstm2_model = Sequential()\n",
        "lstm2_model.add(Embedding(tokenizer.vocab_size+1,\n",
        "                         emb_dim,\n",
        "                         weights = [embedding_matrix],\n",
        "                         input_length=max_seq_len,\n",
        "                         mask_zero = True,\n",
        "                         trainable = False))\n",
        "lstm2_model.add(Bidirectional(LSTM(LSTM_UNITS, return_sequences=True)))\n",
        "lstm2_model.add(Bidirectional(LSTM(LSTM_UNITS, return_sequences=True)))\n",
        "lstm2_model.add(TimeDistributed(Dense(tag_tokenizer.vocab_size+1, activation = 'softmax')))\n",
        "\n",
        "lstm2_model.compile(loss='categorical_crossentropy',\n",
        "                   optimizer=keras.optimizers.Adam(),\n",
        "                   metrics=['categorical_accuracy'])\n",
        "lstm2_model.summary()"
      ]
    },
    {
      "cell_type": "code",
      "source": [
        "lstm2_history = lstm2_model.fit(x_train, y_train, validation_data=(x_val, y_val), **train_params)"
      ],
      "metadata": {
        "id": "EMrE4fFKOpjV"
      },
      "execution_count": null,
      "outputs": []
    },
    {
      "cell_type": "code",
      "source": [
        "display_history(lstm2_history, \"loss\", \"categorical_accuracy\")"
      ],
      "metadata": {
        "id": "L0hwPkmhOwZd"
      },
      "execution_count": null,
      "outputs": []
    },
    {
      "cell_type": "markdown",
      "metadata": {
        "id": "2EPiYl7zfAWL"
      },
      "source": [
        "### Model: Bi-GRU + TD-Dense"
      ]
    },
    {
      "cell_type": "code",
      "execution_count": null,
      "metadata": {
        "id": "NwrXIKq-fH_k"
      },
      "outputs": [],
      "source": [
        "GRU_UNITS= 64 # provare 128\n",
        "\n",
        "gru_model = Sequential()\n",
        "gru_model.add(Embedding(tokenizer.vocab_size+1,\n",
        "                         emb_dim,\n",
        "                         weights = [embedding_matrix],\n",
        "                         input_length=max_seq_len,\n",
        "                         mask_zero = True,\n",
        "                         trainable = False))\n",
        "gru_model.add(Bidirectional(GRU(GRU_UNITS, return_sequences=True)))\n",
        "gru_model.add(TimeDistributed(Dense(tag_tokenizer.vocab_size+1, activation = 'softmax')))\n",
        "\n",
        "gru_model.compile(loss='categorical_crossentropy',\n",
        "                   optimizer=keras.optimizers.Adam(),\n",
        "                   metrics=['categorical_accuracy'])\n",
        "gru_model.summary()"
      ]
    },
    {
      "cell_type": "code",
      "source": [
        "gru_history = gru_model.fit(x_train, y_train, validation_data=(x_val, y_val), **train_params)"
      ],
      "metadata": {
        "id": "B4MafF2qMYTg"
      },
      "execution_count": null,
      "outputs": []
    },
    {
      "cell_type": "code",
      "source": [
        "display_history(gru_history, \"loss\", \"categorical_accuracy\")"
      ],
      "metadata": {
        "id": "j3_idC8pUA-N"
      },
      "execution_count": null,
      "outputs": []
    },
    {
      "cell_type": "markdown",
      "source": [
        "### Model: BiLSTM + 2xTD-Dense"
      ],
      "metadata": {
        "id": "OXez_KcyPSEu"
      }
    },
    {
      "cell_type": "code",
      "source": [
        "Dense2_model = Sequential()\n",
        "Dense2_model.add(Embedding(tokenizer.vocab_size+1,\n",
        "                         emb_dim,\n",
        "                         weights = [embedding_matrix],\n",
        "                         input_length=max_seq_len,\n",
        "                         mask_zero = True,\n",
        "                         trainable = False))\n",
        "Dense2_model.add(Bidirectional(LSTM(LSTM_UNITS, return_sequences=True)))\n",
        "Dense2_model.add(TimeDistributed(Dense(tag_tokenizer.vocab_size+1, activation = 'softmax')))\n",
        "Dense2_model.add(TimeDistributed(Dense(tag_tokenizer.vocab_size+1, activation = 'softmax')))\n",
        "\n",
        "Dense2_model.compile(loss='categorical_crossentropy',\n",
        "                   optimizer=keras.optimizers.Adam(0.02),\n",
        "                   metrics=['categorical_accuracy'])\n",
        "Dense2_model.summary()"
      ],
      "metadata": {
        "id": "Z-BCtarAPaVN"
      },
      "execution_count": null,
      "outputs": []
    },
    {
      "cell_type": "code",
      "source": [
        "Dense2_history = Dense2_model.fit(x_train, y_train, validation_data=(x_val, y_val), **train_params)"
      ],
      "metadata": {
        "id": "uXAVF8Wtg7M-"
      },
      "execution_count": null,
      "outputs": []
    },
    {
      "cell_type": "code",
      "source": [
        "display_history(Dense2_history, \"loss\", \"categorical_accuracy\")"
      ],
      "metadata": {
        "id": "H0fqBkfGhG03"
      },
      "execution_count": null,
      "outputs": []
    },
    {
      "cell_type": "markdown",
      "metadata": {
        "id": "2ZR95EL2BeRV"
      },
      "source": [
        "## Model evaluation"
      ]
    },
    {
      "cell_type": "code",
      "execution_count": null,
      "metadata": {
        "id": "FTzDec7RBjpA",
        "colab": {
          "base_uri": "https://localhost:8080/"
        },
        "outputId": "23e66468-5b0b-4e6c-a784-1908e97a8a19"
      },
      "outputs": [
        {
          "output_type": "stream",
          "name": "stdout",
          "text": [
            "Puntaction class present in the dataset: ['SYM', '``', \"''\", '-LRB-', '-RRB-', '#', '$', ',', '.', ':']\n"
          ]
        }
      ],
      "source": [
        "punct_list = [\"SYM\", \"``\", \"''\", \"-LRB-\", \"-RRB-\"] + [punct for punct in string.punctuation]\n",
        "punct_tag_idxs = [tag_tokenizer.word_to_idx[token] for token in punct_list if token in list(tag_tokenizer.word_to_idx.keys())]\n",
        "print(f\"Puntaction class present in the dataset: {[tag_tokenizer.idx_to_word[idx] for idx in punct_tag_idxs]}\")"
      ]
    },
    {
      "cell_type": "code",
      "source": [
        "# Utils\n",
        "def remove_pad(y_true, y_pred):\n",
        "  y_true_no_pad = []\n",
        "  y_pred_no_pad = []\n",
        "  for i in range(len(y_true)):\n",
        "    if y_true[i] != 0:\n",
        "      y_true_no_pad.append(y_true[i])    \n",
        "      y_pred_no_pad.append(y_pred[i]) \n",
        "  return y_true_no_pad, y_pred_no_pad\n",
        "\n",
        "def compute_f1(y_true, y_pred, title):\n",
        "  f1_value = f1_score(y_true,\n",
        "            y_pred,\n",
        "            average='macro',\n",
        "            labels=[i for i in tag_tokenizer.idx_to_word.keys() if i not in punct_tag_idxs],\n",
        "            zero_division=0)\n",
        "  print(f\"F1-score on {title}: {f1_value}\")"
      ],
      "metadata": {
        "id": "vnBevHPKQJax"
      },
      "execution_count": null,
      "outputs": []
    },
    {
      "cell_type": "markdown",
      "source": [
        "## BiLSTM + TD-Dense\n",
        "\n",
        "\n",
        "\n"
      ],
      "metadata": {
        "id": "qM8a7ssQt_sf"
      }
    },
    {
      "cell_type": "code",
      "execution_count": null,
      "metadata": {
        "id": "Az2fbLTJxMLt",
        "colab": {
          "base_uri": "https://localhost:8080/"
        },
        "outputId": "06d37464-f8cc-4d3d-a349-cab08b9c6b89"
      },
      "outputs": [
        {
          "output_type": "stream",
          "name": "stdout",
          "text": [
            "21/21 [==============================] - 7s 240ms/step\n",
            "11/11 [==============================] - 0s 30ms/step\n"
          ]
        }
      ],
      "source": [
        "# prediction on validation and test set\n",
        "y_pred_val = lstm_model.predict(x_val, batch_size=64)\n",
        "y_pred_test = lstm_model.predict(x_test, batch_size=64)"
      ]
    },
    {
      "cell_type": "code",
      "source": [
        "# concatenazione delle sentences, riga = token di tutte le sentence,  col = prediction values for each class\n",
        "y_pred_val = np.reshape(y_pred_val, (y_pred_val.shape[0]*y_pred_val.shape[1], y_pred_val.shape[2]))\n",
        "y_pred_test = np.reshape(y_pred_test, (y_pred_test.shape[0]*y_pred_test.shape[1], y_pred_test.shape[2]))\n",
        "print(y_pred_val.shape)\n",
        "print(y_pred_test.shape)"
      ],
      "metadata": {
        "colab": {
          "base_uri": "https://localhost:8080/"
        },
        "id": "b-l2upWcrW2S",
        "outputId": "ae214f12-84d4-4d44-9a66-e784d940bdb0"
      },
      "execution_count": null,
      "outputs": [
        {
          "output_type": "stream",
          "name": "stdout",
          "text": [
            "(73472, 46)\n",
            "(36624, 46)\n"
          ]
        }
      ]
    },
    {
      "cell_type": "code",
      "execution_count": null,
      "metadata": {
        "id": "Bgr81jOcxSHG"
      },
      "outputs": [],
      "source": [
        "# reshape dei true values per confronto\n",
        "y_test_true = np.reshape(y_test, (y_test.shape[0]*y_test.shape[1], y_test.shape[2]))\n",
        "y_val_true = np.reshape(y_val, (y_val.shape[0]*y_val.shape[1], y_val.shape[2]))"
      ]
    },
    {
      "cell_type": "code",
      "execution_count": null,
      "metadata": {
        "id": "L9ztrlj5IBja"
      },
      "outputs": [],
      "source": [
        "from sklearn.metrics import confusion_matrix, classification_report\n",
        "\n",
        "conf_matrix = confusion_matrix(np.argmax(y_test_true, axis=1),\n",
        "                               np.argmax(y_pred_test, axis=1),\n",
        "                               normalize=None,\n",
        "                               labels=[i for i in tag_tokenizer.idx_to_word.keys()])\n",
        "\n",
        "df_cfm = pd.DataFrame(conf_matrix,\n",
        "                      index = [tag for tag in tag_tokenizer.idx_to_word.keys()],\n",
        "                      columns = [tag for tag in tag_tokenizer.idx_to_word.keys()])\n",
        "\n",
        "plt.figure(figsize = (30,30))\n",
        "sns.heatmap(df_cfm, annot=True, annot_kws={\"size\": 7}, cmap=\"Blues\")\n",
        "plt.show()"
      ]
    },
    {
      "cell_type": "code",
      "execution_count": null,
      "metadata": {
        "id": "of0FhJfH4W6Z",
        "colab": {
          "base_uri": "https://localhost:8080/"
        },
        "outputId": "740e9a3d-4717-4bf5-df3b-d4ed9edc88be"
      },
      "outputs": [
        {
          "output_type": "stream",
          "name": "stdout",
          "text": [
            "F1-score on validetion set: 0.7037150474352194\n"
          ]
        }
      ],
      "source": [
        "y_val_true_no_pad, y_pred_val_no_pad = remove_pad(np.argmax(y_val_true, axis=1), np.argmax(y_pred_val, axis=1))\n",
        "\n",
        "compute_f1(y_val_true_no_pad, y_pred_val_no_pad, \"validetion set\")"
      ]
    },
    {
      "cell_type": "code",
      "execution_count": null,
      "metadata": {
        "id": "DMzTiqXG2Bsk",
        "colab": {
          "base_uri": "https://localhost:8080/"
        },
        "outputId": "d40a349e-77e1-499a-b94b-0360ff7c3a09"
      },
      "outputs": [
        {
          "output_type": "stream",
          "name": "stdout",
          "text": [
            "F1-score on test set: 0.6787996092186694\n"
          ]
        }
      ],
      "source": [
        "y_test_true_no_pad, y_pred_test_no_pad = remove_pad(np.argmax(y_test_true, axis=1), np.argmax(y_pred_test, axis=1))\n",
        "\n",
        "compute_f1(y_test_true_no_pad, y_pred_test_no_pad, \"test set\")"
      ]
    },
    {
      "cell_type": "code",
      "source": [
        "labels = [i for i in tag_tokenizer.idx_to_word.keys() if i not in punct_tag_idxs]\n",
        "target_names = [tag_tokenizer.idx_to_word[i] for i in labels]\n",
        "\n",
        "print(classification_report(y_test_true_no_pad, y_pred_test_no_pad, labels = labels, target_names = target_names))"
      ],
      "metadata": {
        "colab": {
          "base_uri": "https://localhost:8080/"
        },
        "id": "I75MbaRN8Dpg",
        "outputId": "7870c5b6-f40e-4741-ae2b-9b4d73258cfd"
      },
      "execution_count": null,
      "outputs": [
        {
          "output_type": "stream",
          "name": "stdout",
          "text": [
            "              precision    recall  f1-score   support\n",
            "\n",
            "          NN       0.81      0.83      0.82      2383\n",
            "         NNP       0.82      0.88      0.85      1502\n",
            "          IN       0.95      0.93      0.94      1630\n",
            "          DT       0.98      0.98      0.98      1335\n",
            "         NNS       0.80      0.85      0.82       941\n",
            "          JJ       0.68      0.68      0.68       918\n",
            "         VBD       0.86      0.84      0.85       634\n",
            "          RB       0.70      0.71      0.71       381\n",
            "          CD       0.95      0.95      0.95       858\n",
            "          VB       0.86      0.91      0.88       403\n",
            "          CC       0.98      0.98      0.98       366\n",
            "         VBZ       0.88      0.87      0.88       280\n",
            "         VBN       0.80      0.59      0.68       366\n",
            "          TO       1.00      1.00      1.00       386\n",
            "         PRP       0.95      0.99      0.97       192\n",
            "         VBG       0.67      0.39      0.50       221\n",
            "         VBP       0.85      0.79      0.82       134\n",
            "          MD       0.97      0.99      0.98       167\n",
            "        PRP$       0.98      1.00      0.99        99\n",
            "         POS       0.99      1.00      1.00       152\n",
            "         WDT       0.89      0.95      0.92        84\n",
            "         JJR       0.65      0.53      0.58        59\n",
            "          WP       0.83      1.00      0.91        20\n",
            "          RP       0.52      0.73      0.61        33\n",
            "        NNPS       0.29      0.05      0.08        44\n",
            "         JJS       0.94      0.48      0.64        31\n",
            "         WRB       0.79      0.62      0.70        24\n",
            "         RBR       0.50      0.20      0.29        15\n",
            "          EX       0.83      1.00      0.91         5\n",
            "         RBS       0.75      1.00      0.86         3\n",
            "          LS       0.00      0.00      0.00         0\n",
            "         PDT       0.00      0.00      0.00         4\n",
            "         WP$       0.00      0.00      0.00         4\n",
            "          FW       0.00      0.00      0.00         0\n",
            "          UH       0.00      0.00      0.00         0\n",
            "\n",
            "   micro avg       0.86      0.86      0.86     13674\n",
            "   macro avg       0.70      0.68      0.68     13674\n",
            "weighted avg       0.86      0.86      0.86     13674\n",
            "\n"
          ]
        },
        {
          "output_type": "stream",
          "name": "stderr",
          "text": [
            "/usr/local/lib/python3.9/dist-packages/sklearn/metrics/_classification.py:1344: UndefinedMetricWarning: Precision and F-score are ill-defined and being set to 0.0 in labels with no predicted samples. Use `zero_division` parameter to control this behavior.\n",
            "  _warn_prf(average, modifier, msg_start, len(result))\n",
            "/usr/local/lib/python3.9/dist-packages/sklearn/metrics/_classification.py:1344: UndefinedMetricWarning: Recall and F-score are ill-defined and being set to 0.0 in labels with no true samples. Use `zero_division` parameter to control this behavior.\n",
            "  _warn_prf(average, modifier, msg_start, len(result))\n",
            "/usr/local/lib/python3.9/dist-packages/sklearn/metrics/_classification.py:1344: UndefinedMetricWarning: Precision and F-score are ill-defined and being set to 0.0 in labels with no predicted samples. Use `zero_division` parameter to control this behavior.\n",
            "  _warn_prf(average, modifier, msg_start, len(result))\n",
            "/usr/local/lib/python3.9/dist-packages/sklearn/metrics/_classification.py:1344: UndefinedMetricWarning: Recall and F-score are ill-defined and being set to 0.0 in labels with no true samples. Use `zero_division` parameter to control this behavior.\n",
            "  _warn_prf(average, modifier, msg_start, len(result))\n",
            "/usr/local/lib/python3.9/dist-packages/sklearn/metrics/_classification.py:1344: UndefinedMetricWarning: Precision and F-score are ill-defined and being set to 0.0 in labels with no predicted samples. Use `zero_division` parameter to control this behavior.\n",
            "  _warn_prf(average, modifier, msg_start, len(result))\n",
            "/usr/local/lib/python3.9/dist-packages/sklearn/metrics/_classification.py:1344: UndefinedMetricWarning: Recall and F-score are ill-defined and being set to 0.0 in labels with no true samples. Use `zero_division` parameter to control this behavior.\n",
            "  _warn_prf(average, modifier, msg_start, len(result))\n"
          ]
        }
      ]
    },
    {
      "cell_type": "code",
      "execution_count": null,
      "metadata": {
        "id": "S7qNx8OyNcor"
      },
      "outputs": [],
      "source": [
        "test_idx = 186 #@param {type:\"slider\", min:0, max:654, step:1}\n",
        "y_true = y_test[test_idx]\n",
        "\n",
        "y_pred = lstm_model.predict(np.expand_dims(x_test[test_idx], axis=0),\n",
        "                            batch_size=64, \n",
        "                            verbose=\"0\")\n",
        "y_pred = np.reshape(y_pred, (y_pred.shape[1], y_pred.shape[2]))\n",
        "\n",
        "# Get true and predicted tag\n",
        "true_tag_idx = np.argmax(y_true, axis=1)\n",
        "pred_tag_idx = np.argmax(y_pred, axis=1)\n",
        "\n",
        "# Remove pagging tag\n",
        "true_tag_idx_no_pad = [tag_idx for tag_idx in true_tag_idx if tag_idx != 0]\n",
        "pred_tag_idx_no_pad = pred_tag_idx[(max_seq_len - len(true_tag_idx_no_pad)):]\n",
        "\n",
        "print()\n",
        "print(f\"TRUE SEQUENCE:\\n{' '.join([tag_tokenizer.idx_to_word[idx] for idx in true_tag_idx_no_pad])}\")\n",
        "print(\"-\"*100)\n",
        "print(f\"PREDICTED SEQUENCE:\\n{' '.join([tag_tokenizer.idx_to_word[idx] for idx in pred_tag_idx_no_pad])}\")"
      ]
    },
    {
      "cell_type": "markdown",
      "source": [
        "## 2xBiLSTM + TD-Dense\n"
      ],
      "metadata": {
        "id": "hHsprAzfz10h"
      }
    },
    {
      "cell_type": "code",
      "source": [
        "# prediction on validation and test set\n",
        "y_pred_val2 = lstm2_model.predict(x_val, batch_size=64)\n",
        "y_pred_test2 = lstm2_model.predict(x_test, batch_size=64)"
      ],
      "metadata": {
        "id": "ly4pEmxoz0nA"
      },
      "execution_count": null,
      "outputs": []
    },
    {
      "cell_type": "code",
      "source": [
        "# concatenazione delle sentences, riga = token di tutte le sentence,  col = prediction values for each class\n",
        "y_pred_val2 = np.reshape(y_pred_val2, (y_pred_val2.shape[0]*y_pred_val2.shape[1], y_pred_val2.shape[2]))\n",
        "y_pred_test2 = np.reshape(y_pred_test2, (y_pred_test2.shape[0]*y_pred_test2.shape[1], y_pred_test2.shape[2]))\n",
        "print(y_pred_val2.shape)\n",
        "print(y_pred_test2.shape)"
      ],
      "metadata": {
        "id": "BEh4SgfT0GXI"
      },
      "execution_count": null,
      "outputs": []
    },
    {
      "cell_type": "code",
      "source": [
        "conf_matrix = confusion_matrix(np.argmax(y_test_true, axis=1),\n",
        "                               np.argmax(y_pred_test2, axis=1),\n",
        "                               normalize=None,\n",
        "                               labels=[i for i in tag_tokenizer.idx_to_word.keys()])\n",
        "\n",
        "df_cfm = pd.DataFrame(conf_matrix,\n",
        "                      index = [tag for tag in tag_tokenizer.idx_to_word.keys()],\n",
        "                      columns = [tag for tag in tag_tokenizer.idx_to_word.keys()])\n",
        "\n",
        "plt.figure(figsize = (30,30))\n",
        "sns.heatmap(df_cfm, annot=True, annot_kws={\"size\": 7}, cmap=\"Blues\")\n",
        "plt.show()"
      ],
      "metadata": {
        "id": "qXh0bF6S0lQn"
      },
      "execution_count": null,
      "outputs": []
    },
    {
      "cell_type": "code",
      "source": [
        "y_val_true_no_pad, y_pred_val_no_pad = remove_pad(np.argmax(y_val_true, axis=1), np.argmax(y_pred_val2, axis=1))\n",
        "compute_f1(y_val_true_no_pad, y_pred_val_no_pad, \"validetion set\")\n",
        "\n",
        "print(\"\")\n",
        "\n",
        "y_test_true_no_pad, y_pred_test_no_pad = remove_pad(np.argmax(y_test_true, axis=1), np.argmax(y_pred_test2, axis=1))\n",
        "compute_f1(y_test_true_no_pad, y_pred_test_no_pad, \"test set\")"
      ],
      "metadata": {
        "id": "qLH7-ZDk1BaP"
      },
      "execution_count": null,
      "outputs": []
    },
    {
      "cell_type": "code",
      "source": [
        "print(classification_report(y_test_true_no_pad, y_pred_test_no_pad, labels = labels, target_names = target_names))"
      ],
      "metadata": {
        "id": "JPHoiZkS17tN"
      },
      "execution_count": null,
      "outputs": []
    },
    {
      "cell_type": "markdown",
      "source": [
        "f1 biGRU"
      ],
      "metadata": {
        "id": "GNCklzIL5a_8"
      }
    },
    {
      "cell_type": "code",
      "source": [
        "y_pred_val = gru_model.predict(x_val, batch_size=64)\n",
        "y_pred_test = gru_model.predict(x_test, batch_size=64)\n",
        "\n",
        "y_pred_val = np.reshape(y_pred_val, (y_pred_val.shape[0]*y_pred_val.shape[1], y_pred_val.shape[2]))\n",
        "y_pred_test = np.reshape(y_pred_test, (y_pred_test.shape[0]*y_pred_test.shape[1], y_pred_test.shape[2]))\n",
        "\n",
        "\n",
        "y_test_true_no_pad, y_pred_test_no_pad = remove_pad(np.argmax(y_test_true, axis=1), np.argmax(y_pred_test, axis=1))\n",
        "compute_f1(y_test_true_no_pad, y_pred_test_no_pad, \"test set\")"
      ],
      "metadata": {
        "id": "NJX0Tw095dKU"
      },
      "execution_count": null,
      "outputs": []
    }
  ],
  "metadata": {
    "accelerator": "GPU",
    "colab": {
      "provenance": []
    },
    "gpuClass": "standard",
    "kernelspec": {
      "display_name": "Python 3",
      "name": "python3"
    },
    "language_info": {
      "name": "python"
    }
  },
  "nbformat": 4,
  "nbformat_minor": 0
}